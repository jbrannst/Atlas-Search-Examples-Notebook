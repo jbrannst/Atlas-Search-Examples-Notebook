{
 "cells": [
  {
   "cell_type": "markdown",
   "id": "78f49223",
   "metadata": {},
   "source": [
    "# MongoDB Atlas Search: Basic Search"
   ]
  },
  {
   "cell_type": "markdown",
   "id": "ac751afa",
   "metadata": {},
   "source": [
    "## Setup"
   ]
  },
  {
   "cell_type": "code",
   "execution_count": null,
   "id": "4f94ad7e",
   "metadata": {},
   "outputs": [],
   "source": [
    "# import our libraries, instantiate our classes\n",
    "\n",
    "import sys\n",
    "\n",
    "from pymongo import MongoClient\n",
    "import pprint\n",
    "\n",
    "client = MongoClient('mongo-cluster-url')['sample_mflix']\n",
    "\n",
    "pp = pprint.PrettyPrinter(indent=1)"
   ]
  },
  {
   "cell_type": "markdown",
   "id": "dde57663",
   "metadata": {},
   "source": [
    "### Simple search"
   ]
  },
  {
   "cell_type": "markdown",
   "id": "05765cbe",
   "metadata": {},
   "source": [
    "#### Atlas Search Index\n",
    "\n",
    "```json\n",
    "\n",
    "{\n",
    "  \"mappings\": {\n",
    "    \"dynamic\": true\n",
    "  }\n",
    "}\n",
    "\n",
    "```"
   ]
  },
  {
   "cell_type": "code",
   "execution_count": null,
   "id": "91a9c40c",
   "metadata": {},
   "outputs": [],
   "source": [
    "basic_search = [\n",
    "    {\n",
    "        '$search' :{\n",
    "              'text': {\n",
    "                  'query': \"fight club\",\n",
    "                  'path': \"title\"\n",
    "              }\n",
    "        }\n",
    "    },\n",
    "    {\n",
    "        '$project' : {\n",
    "            '_id' : 0,\n",
    "            'title' : 1,\n",
    "            'plot' : 1\n",
    "        } \n",
    "    },\n",
    "    {'$limit' : 5}\n",
    "]\n",
    "\n",
    "result = list(client['movies'].aggregate(basic_search))\n",
    "pp.pprint(result)"
   ]
  },
  {
   "cell_type": "markdown",
   "id": "4c72b3c5",
   "metadata": {},
   "source": [
    "#### Now with Fuzzy"
   ]
  },
  {
   "cell_type": "code",
   "execution_count": null,
   "id": "c6475960",
   "metadata": {},
   "outputs": [],
   "source": [
    "pipeline = [\n",
    "    {\n",
    "        '$search': {\n",
    "            'text': {\n",
    "                'query': \"fihgt club\", #Fight club in intentionally misspelled\n",
    "                'path': \"title\",\n",
    "                'fuzzy': {\n",
    "                    'maxEdits': 2\n",
    "                }\n",
    "            }\n",
    "        }\n",
    "    },\n",
    "    {\n",
    "        '$project' : {\n",
    "            '_id' : 0,\n",
    "            'title' : 1,\n",
    "            'plot' : 1\n",
    "        } \n",
    "    },\n",
    "    {'$limit' : 5}\n",
    "]\n",
    "\n",
    "result = list(client['movies'].aggregate(pipeline))\n",
    "pp.pprint(result)"
   ]
  },
  {
   "cell_type": "markdown",
   "id": "8fb012ba",
   "metadata": {},
   "source": [
    "#### Now with Score"
   ]
  },
  {
   "cell_type": "code",
   "execution_count": null,
   "id": "79063bff",
   "metadata": {},
   "outputs": [],
   "source": [
    "pipeline = [\n",
    "    {\n",
    "        '$search': {\n",
    "            'text': {\n",
    "                'query': \"fihgt club\",\n",
    "                'path': \"title\",\n",
    "                'fuzzy': {\n",
    "                    'maxEdits': 2\n",
    "                }\n",
    "            }\n",
    "        }\n",
    "    },\n",
    "    {\n",
    "        '$project' : {\n",
    "            '_id' : 0,\n",
    "            'title' : 1,\n",
    "            'plot' : 1,\n",
    "            'score' : {\"$meta\" : \"searchScore\" }\n",
    "        } \n",
    "    },\n",
    "    {'$limit' : 5}\n",
    "]\n",
    "\n",
    "result = list(client['movies'].aggregate(pipeline))\n",
    "pp.pprint(result)"
   ]
  },
  {
   "cell_type": "markdown",
   "id": "f6c25dc1",
   "metadata": {},
   "source": [
    "#### Now with autocomplete\n",
    "\n",
    "#### Autocomplete index\n",
    "\n",
    "```json\n",
    "\n",
    "{\n",
    "  \"mappings\": {\n",
    "    \"dynamic\": true,\n",
    "    \"fields\": {\n",
    "      \"title\": [\n",
    "        {\n",
    "          \"foldDiacritics\": false,\n",
    "          \"maxGrams\": 15,\n",
    "          \"minGrams\": 2,\n",
    "          \"tokenization\": \"edgeGram\",\n",
    "          \"type\": \"autocomplete\"\n",
    "        }\n",
    "      ]\n",
    "    }\n",
    "  }\n",
    "}\n",
    "\n",
    "```"
   ]
  },
  {
   "cell_type": "code",
   "execution_count": null,
   "id": "023456e0",
   "metadata": {},
   "outputs": [],
   "source": [
    "pipeline = [\n",
    "            {\n",
    "              '$search': {\n",
    "              'index' : \"autocomplete\",\n",
    "                'autocomplete': {\n",
    "                    'query': \"figh\",\n",
    "                    'path': \"title\"\n",
    "                }\n",
    "              }\n",
    "            },\n",
    "            { '$limit' : 3 },\n",
    "            { '$project' : { '_id' : 0, 'title' : 1}}\n",
    "        ]\n",
    "\n",
    "result = list(client['movies'].aggregate(pipeline))\n",
    "pp.pprint(result)"
   ]
  },
  {
   "cell_type": "code",
   "execution_count": null,
   "id": "f2005be1",
   "metadata": {},
   "outputs": [],
   "source": []
  }
 ],
 "metadata": {
  "kernelspec": {
   "display_name": "Python 3.8.9 64-bit",
   "language": "python",
   "name": "python3"
  },
  "language_info": {
   "codemirror_mode": {
    "name": "ipython",
    "version": 3
   },
   "file_extension": ".py",
   "mimetype": "text/x-python",
   "name": "python",
   "nbconvert_exporter": "python",
   "pygments_lexer": "ipython3",
   "version": "3.8.9"
  },
  "vscode": {
   "interpreter": {
    "hash": "31f2aee4e71d21fbe5cf8b01ff0e069b9275f58929596ceb00d14d90e3e16cd6"
   }
  }
 },
 "nbformat": 4,
 "nbformat_minor": 5
}
